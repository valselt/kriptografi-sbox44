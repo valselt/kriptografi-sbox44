{
 "cells": [
  {
   "cell_type": "code",
   "execution_count": 5,
   "metadata": {},
   "outputs": [],
   "source": [
    "import numpy as np"
   ]
  },
  {
   "cell_type": "code",
   "execution_count": 6,
   "metadata": {},
   "outputs": [],
   "source": [
    "# Matriks K44 (8x8 matriks biner)\n",
    "K44 = np.array([\n",
    "    [0, 1, 0, 1, 0, 1, 1, 1],\n",
    "    [1, 0, 1, 0, 1, 0, 1, 1],\n",
    "    [1, 1, 0, 1, 0, 1, 0, 1],\n",
    "    [1, 1, 1, 0, 1, 0, 1, 0],\n",
    "    [0, 1, 1, 1, 0, 1, 0, 1],\n",
    "    [1, 0, 1, 1, 1, 0, 1, 0],\n",
    "    [0, 1, 0, 1, 1, 1, 0, 1],\n",
    "    [1, 0, 1, 0, 1, 1, 1, 0]\n",
    "])\n",
    "# Konstanta CAES (8-bit)\n",
    "CAES = np.array([1, 1, 0, 0, 0, 1, 1, 0])\n"
   ]
  },
  {
   "cell_type": "code",
   "execution_count": 7,
   "metadata": {},
   "outputs": [],
   "source": [
    "irreducible_poly = 0x11b  # Polinomial AES x^8 + x^4 + x^3 + x + 1\n"
   ]
  },
  {
   "cell_type": "markdown",
   "metadata": {},
   "source": [
    "# Langkah 2: Fungsi Utilitas"
   ]
  },
  {
   "cell_type": "code",
   "execution_count": 8,
   "metadata": {},
   "outputs": [],
   "source": [
    "def gf_inverse(x, poly=irreducible_poly):\n",
    "    for i in range(256):\n",
    "        if (x * i) % 256 == 1:\n",
    "            return i\n",
    "    return 0\n"
   ]
  },
  {
   "cell_type": "code",
   "execution_count": 9,
   "metadata": {},
   "outputs": [],
   "source": [
    "def affine_transformation(x_inv, K44, CAES):\n",
    "    x_inv_bits = np.array([int(b) for b in format(x_inv, '08b')])\n",
    "    result = (np.dot(K44, x_inv_bits) + CAES) % 2\n",
    "    return int(\"\".join(map(str, result)), 2)\n"
   ]
  },
  {
   "cell_type": "code",
   "execution_count": 10,
   "metadata": {},
   "outputs": [],
   "source": [
    "def construct_sbox44(K44, CAES):\n",
    "    sbox = []\n",
    "    for i in range(256):\n",
    "        x_inv = gf_inverse(i)\n",
    "        sbox.append(affine_transformation(x_inv, K44, CAES))\n",
    "    return sbox\n"
   ]
  },
  {
   "cell_type": "markdown",
   "metadata": {},
   "source": [
    "# Langkah 3: Evaluasi S-Box"
   ]
  },
  {
   "cell_type": "code",
   "execution_count": 11,
   "metadata": {},
   "outputs": [],
   "source": [
    "def calculate_nonlinearity(sbox):\n",
    "    max_nl = 0\n",
    "    for i in range(256):\n",
    "        hamming_dist = np.sum([bin(i ^ x).count('1') for x in sbox])\n",
    "        max_nl = max(max_nl, hamming_dist)\n",
    "    return max_nl\n"
   ]
  },
  {
   "cell_type": "code",
   "execution_count": 12,
   "metadata": {},
   "outputs": [],
   "source": [
    "def calculate_sac(sbox):\n",
    "    sac_score = 0\n",
    "    for i in range(256):\n",
    "        flipped_bits = [sbox[i ^ (1 << j)] for j in range(8)]\n",
    "        sac_score += np.mean([bin(x).count('1') / 8.0 for x in flipped_bits])\n",
    "    return sac_score / 256\n"
   ]
  },
  {
   "cell_type": "code",
   "execution_count": 13,
   "metadata": {},
   "outputs": [],
   "source": [
    "def calculate_lap(sbox):\n",
    "    lap = 0\n",
    "    for i in range(256):\n",
    "        for j in range(256):\n",
    "            correlation = sum([(bin(x & i).count('1') ^ bin(sbox[x] & j).count('1')) == 0 for x in range(256)])\n",
    "            lap = max(lap, abs(correlation - 128) / 256)\n",
    "    return lap\n"
   ]
  },
  {
   "cell_type": "code",
   "execution_count": 14,
   "metadata": {},
   "outputs": [],
   "source": [
    "def calculate_dap(sbox):\n",
    "    dap = 0\n",
    "    for delta_in in range(256):\n",
    "        for delta_out in range(256):\n",
    "            diff = sum([sbox[x] ^ sbox[x ^ delta_in] == delta_out for x in range(256)])\n",
    "            dap = max(dap, diff / 256)\n",
    "    return dap\n"
   ]
  },
  {
   "cell_type": "markdown",
   "metadata": {},
   "source": [
    "# Langkah 4: Eksekusi"
   ]
  },
  {
   "cell_type": "code",
   "execution_count": 15,
   "metadata": {},
   "outputs": [],
   "source": [
    "sbox44 = construct_sbox44(K44, CAES)\n"
   ]
  },
  {
   "cell_type": "code",
   "execution_count": 16,
   "metadata": {},
   "outputs": [
    {
     "ename": "KeyboardInterrupt",
     "evalue": "",
     "output_type": "error",
     "traceback": [
      "\u001b[1;31m---------------------------------------------------------------------------\u001b[0m",
      "\u001b[1;31mKeyboardInterrupt\u001b[0m                         Traceback (most recent call last)",
      "Cell \u001b[1;32mIn[16], line 3\u001b[0m\n\u001b[0;32m      1\u001b[0m nl \u001b[38;5;241m=\u001b[39m calculate_nonlinearity(sbox44)\n\u001b[0;32m      2\u001b[0m sac \u001b[38;5;241m=\u001b[39m calculate_sac(sbox44)\n\u001b[1;32m----> 3\u001b[0m lap \u001b[38;5;241m=\u001b[39m \u001b[43mcalculate_lap\u001b[49m\u001b[43m(\u001b[49m\u001b[43msbox44\u001b[49m\u001b[43m)\u001b[49m\n\u001b[0;32m      4\u001b[0m dap \u001b[38;5;241m=\u001b[39m calculate_dap(sbox44)\n\u001b[0;32m      6\u001b[0m \u001b[38;5;28mprint\u001b[39m(\u001b[38;5;124mf\u001b[39m\u001b[38;5;124m\"\u001b[39m\u001b[38;5;124mNonlinearity (NL): \u001b[39m\u001b[38;5;132;01m{\u001b[39;00mnl\u001b[38;5;132;01m}\u001b[39;00m\u001b[38;5;124m\"\u001b[39m)\n",
      "Cell \u001b[1;32mIn[13], line 5\u001b[0m, in \u001b[0;36mcalculate_lap\u001b[1;34m(sbox)\u001b[0m\n\u001b[0;32m      3\u001b[0m \u001b[38;5;28;01mfor\u001b[39;00m i \u001b[38;5;129;01min\u001b[39;00m \u001b[38;5;28mrange\u001b[39m(\u001b[38;5;241m256\u001b[39m):\n\u001b[0;32m      4\u001b[0m     \u001b[38;5;28;01mfor\u001b[39;00m j \u001b[38;5;129;01min\u001b[39;00m \u001b[38;5;28mrange\u001b[39m(\u001b[38;5;241m256\u001b[39m):\n\u001b[1;32m----> 5\u001b[0m         correlation \u001b[38;5;241m=\u001b[39m \u001b[38;5;28msum\u001b[39m([(\u001b[38;5;28mbin\u001b[39m(x \u001b[38;5;241m&\u001b[39m i)\u001b[38;5;241m.\u001b[39mcount(\u001b[38;5;124m'\u001b[39m\u001b[38;5;124m1\u001b[39m\u001b[38;5;124m'\u001b[39m) \u001b[38;5;241m^\u001b[39m \u001b[38;5;28mbin\u001b[39m(sbox[x] \u001b[38;5;241m&\u001b[39m j)\u001b[38;5;241m.\u001b[39mcount(\u001b[38;5;124m'\u001b[39m\u001b[38;5;124m1\u001b[39m\u001b[38;5;124m'\u001b[39m)) \u001b[38;5;241m==\u001b[39m \u001b[38;5;241m0\u001b[39m \u001b[38;5;28;01mfor\u001b[39;00m x \u001b[38;5;129;01min\u001b[39;00m \u001b[38;5;28mrange\u001b[39m(\u001b[38;5;241m256\u001b[39m)])\n\u001b[0;32m      6\u001b[0m         lap \u001b[38;5;241m=\u001b[39m \u001b[38;5;28mmax\u001b[39m(lap, \u001b[38;5;28mabs\u001b[39m(correlation \u001b[38;5;241m-\u001b[39m \u001b[38;5;241m128\u001b[39m) \u001b[38;5;241m/\u001b[39m \u001b[38;5;241m256\u001b[39m)\n\u001b[0;32m      7\u001b[0m \u001b[38;5;28;01mreturn\u001b[39;00m lap\n",
      "Cell \u001b[1;32mIn[13], line 5\u001b[0m, in \u001b[0;36m<listcomp>\u001b[1;34m(.0)\u001b[0m\n\u001b[0;32m      3\u001b[0m \u001b[38;5;28;01mfor\u001b[39;00m i \u001b[38;5;129;01min\u001b[39;00m \u001b[38;5;28mrange\u001b[39m(\u001b[38;5;241m256\u001b[39m):\n\u001b[0;32m      4\u001b[0m     \u001b[38;5;28;01mfor\u001b[39;00m j \u001b[38;5;129;01min\u001b[39;00m \u001b[38;5;28mrange\u001b[39m(\u001b[38;5;241m256\u001b[39m):\n\u001b[1;32m----> 5\u001b[0m         correlation \u001b[38;5;241m=\u001b[39m \u001b[38;5;28msum\u001b[39m([(\u001b[38;5;28mbin\u001b[39m(x \u001b[38;5;241m&\u001b[39m i)\u001b[38;5;241m.\u001b[39mcount(\u001b[38;5;124m'\u001b[39m\u001b[38;5;124m1\u001b[39m\u001b[38;5;124m'\u001b[39m) \u001b[38;5;241m^\u001b[39m \u001b[38;5;28;43mbin\u001b[39;49m\u001b[43m(\u001b[49m\u001b[43msbox\u001b[49m\u001b[43m[\u001b[49m\u001b[43mx\u001b[49m\u001b[43m]\u001b[49m\u001b[43m \u001b[49m\u001b[38;5;241;43m&\u001b[39;49m\u001b[43m \u001b[49m\u001b[43mj\u001b[49m\u001b[43m)\u001b[49m\u001b[38;5;241;43m.\u001b[39;49m\u001b[43mcount\u001b[49m\u001b[43m(\u001b[49m\u001b[38;5;124;43m'\u001b[39;49m\u001b[38;5;124;43m1\u001b[39;49m\u001b[38;5;124;43m'\u001b[39;49m\u001b[43m)\u001b[49m) \u001b[38;5;241m==\u001b[39m \u001b[38;5;241m0\u001b[39m \u001b[38;5;28;01mfor\u001b[39;00m x \u001b[38;5;129;01min\u001b[39;00m \u001b[38;5;28mrange\u001b[39m(\u001b[38;5;241m256\u001b[39m)])\n\u001b[0;32m      6\u001b[0m         lap \u001b[38;5;241m=\u001b[39m \u001b[38;5;28mmax\u001b[39m(lap, \u001b[38;5;28mabs\u001b[39m(correlation \u001b[38;5;241m-\u001b[39m \u001b[38;5;241m128\u001b[39m) \u001b[38;5;241m/\u001b[39m \u001b[38;5;241m256\u001b[39m)\n\u001b[0;32m      7\u001b[0m \u001b[38;5;28;01mreturn\u001b[39;00m lap\n",
      "\u001b[1;31mKeyboardInterrupt\u001b[0m: "
     ]
    }
   ],
   "source": [
    "nl = calculate_nonlinearity(sbox44)\n",
    "sac = calculate_sac(sbox44)\n",
    "lap = calculate_lap(sbox44)\n",
    "dap = calculate_dap(sbox44)\n",
    "\n",
    "print(f\"Nonlinearity (NL): {nl}\")\n",
    "print(f\"Strict Avalanche Criterion (SAC): {sac}\")\n",
    "print(f\"Linear Approximation Probability (LAP): {lap}\")\n",
    "print(f\"Differential Approximation Probability (DAP): {dap}\")\n"
   ]
  }
 ],
 "metadata": {
  "kernelspec": {
   "display_name": "kripto",
   "language": "python",
   "name": "python3"
  },
  "language_info": {
   "codemirror_mode": {
    "name": "ipython",
    "version": 3
   },
   "file_extension": ".py",
   "mimetype": "text/x-python",
   "name": "python",
   "nbconvert_exporter": "python",
   "pygments_lexer": "ipython3",
   "version": "3.10.15"
  }
 },
 "nbformat": 4,
 "nbformat_minor": 2
}
