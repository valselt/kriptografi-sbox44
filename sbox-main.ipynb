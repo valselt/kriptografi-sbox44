{
 "cells": [
  {
   "cell_type": "markdown",
   "metadata": {},
   "source": [
    "# Langkah 1: Import Module"
   ]
  },
  {
   "cell_type": "code",
   "execution_count": null,
   "metadata": {},
   "outputs": [],
   "source": [
    "# Langkah 1: Import Modul\n",
    "from sbox import SBox\n",
    "from evaluate import Evaluator\n",
    "import numpy as np"
   ]
  },
  {
   "cell_type": "markdown",
   "metadata": {},
   "source": [
    "# Langkah 2: Definisikan Matriks K44 dan Konstanta CAES"
   ]
  },
  {
   "cell_type": "code",
   "execution_count": null,
   "metadata": {},
   "outputs": [],
   "source": [
    "K44 = np.array([\n",
    "    [0, 1, 0, 1, 0, 1, 1, 1],\n",
    "    [1, 0, 1, 0, 1, 0, 1, 1],\n",
    "    [1, 1, 0, 1, 0, 1, 0, 1],\n",
    "    [1, 1, 1, 0, 1, 0, 1, 0],\n",
    "    [0, 1, 1, 1, 0, 1, 0, 1],\n",
    "    [1, 0, 1, 1, 1, 0, 1, 0],\n",
    "    [0, 1, 0, 1, 1, 1, 0, 1],\n",
    "    [1, 0, 1, 0, 1, 1, 1, 0]\n",
    "])\n",
    "CAES = np.array([1, 1, 0, 0, 0, 1, 1, 0])"
   ]
  },
  {
   "cell_type": "markdown",
   "metadata": {},
   "source": [
    "# Langkah 3: Bangun S-Box"
   ]
  },
  {
   "cell_type": "code",
   "execution_count": null,
   "metadata": {},
   "outputs": [],
   "source": [
    "sbox = SBox(K44, CAES)\n",
    "sbox44 = sbox.construct_sbox()\n"
   ]
  },
  {
   "cell_type": "markdown",
   "metadata": {},
   "source": [
    "# Langkah 4: Evaluasi S-Box"
   ]
  },
  {
   "cell_type": "code",
   "execution_count": null,
   "metadata": {},
   "outputs": [],
   "source": [
    "evaluator = Evaluator(sbox44)\n",
    "nl = evaluator.calculate_nonlinearity()\n",
    "sac = evaluator.calculate_sac()\n",
    "lap = evaluator.calculate_lap()\n",
    "dap = evaluator.calculate_dap()"
   ]
  },
  {
   "cell_type": "markdown",
   "metadata": {},
   "source": [
    "# Langkah 5: Cetak Hasil Evaluasi"
   ]
  },
  {
   "cell_type": "code",
   "execution_count": null,
   "metadata": {},
   "outputs": [],
   "source": [
    "print(f\"Nonlinearity (NL): {nl}\")\n",
    "print(f\"Strict Avalanche Criterion (SAC): {sac}\")\n",
    "print(f\"Linear Approximation Probability (LAP): {lap}\")\n",
    "print(f\"Differential Approximation Probability (DAP): {dap}\")"
   ]
  }
 ],
 "metadata": {
  "kernelspec": {
   "display_name": "kripto",
   "language": "python",
   "name": "python3"
  },
  "language_info": {
   "name": "python",
   "version": "3.10.15"
  }
 },
 "nbformat": 4,
 "nbformat_minor": 2
}
